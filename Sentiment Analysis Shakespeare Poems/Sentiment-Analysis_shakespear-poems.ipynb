{
  "nbformat": 4,
  "nbformat_minor": 0,
  "metadata": {
    "colab": {
      "provenance": []
    },
    "kernelspec": {
      "name": "python3",
      "display_name": "Python 3"
    },
    "language_info": {
      "name": "python"
    }
  },
  "cells": [
    {
      "cell_type": "markdown",
      "source": [
        "#####**Important Note:** To Run all cells please use **Google Colab** and upload all five poems in sample_data folder. (Please be careful with names of file especially 'Juliet's Soliloguy' because file paths does not like apostrophy ')"
      ],
      "metadata": {
        "id": "x2SMDmn7NuqE"
      }
    },
    {
      "cell_type": "markdown",
      "source": [
        "#  NLTK VADER\n",
        "# Sentiment Analysis with VADER in NLTK for Shakespeare’s Poems:\n",
        "\n",
        "####1.1 (2.0 points) Calculate the overall sentiment score for each file and list the filename with corresponding scores.\n"
      ],
      "metadata": {
        "id": "3hIpbiWYKv_L"
      }
    },
    {
      "cell_type": "code",
      "source": [
        "!pip install vaderSentiment\n",
        "!pip install nltk"
      ],
      "metadata": {
        "colab": {
          "base_uri": "https://localhost:8080/"
        },
        "id": "i4r4LgiwJxJN",
        "outputId": "c87e71c9-5fdd-42db-9692-9b9ad1307099"
      },
      "execution_count": 1,
      "outputs": [
        {
          "output_type": "stream",
          "name": "stdout",
          "text": [
            "Collecting vaderSentiment\n",
            "  Downloading vaderSentiment-3.3.2-py2.py3-none-any.whl (125 kB)\n",
            "\u001b[2K     \u001b[90m━━━━━━━━━━━━━━━━━━━━━━━━━━━━━━━━━━━━━━━━\u001b[0m \u001b[32m126.0/126.0 kB\u001b[0m \u001b[31m2.3 MB/s\u001b[0m eta \u001b[36m0:00:00\u001b[0m\n",
            "\u001b[?25hRequirement already satisfied: requests in /usr/local/lib/python3.10/dist-packages (from vaderSentiment) (2.31.0)\n",
            "Requirement already satisfied: charset-normalizer<4,>=2 in /usr/local/lib/python3.10/dist-packages (from requests->vaderSentiment) (3.3.2)\n",
            "Requirement already satisfied: idna<4,>=2.5 in /usr/local/lib/python3.10/dist-packages (from requests->vaderSentiment) (3.7)\n",
            "Requirement already satisfied: urllib3<3,>=1.21.1 in /usr/local/lib/python3.10/dist-packages (from requests->vaderSentiment) (2.0.7)\n",
            "Requirement already satisfied: certifi>=2017.4.17 in /usr/local/lib/python3.10/dist-packages (from requests->vaderSentiment) (2024.2.2)\n",
            "Installing collected packages: vaderSentiment\n",
            "Successfully installed vaderSentiment-3.3.2\n"
          ]
        }
      ]
    },
    {
      "cell_type": "code",
      "source": [
        "import nltk\n",
        "from nltk.sentiment import SentimentIntensityAnalyzer\n",
        "from nltk.sentiment import SentimentIntensityAnalyzer\n",
        "nltk.download('vader_lexicon')\n",
        "from nltk import sent_tokenize\n",
        "nltk.download('punkt')"
      ],
      "metadata": {
        "colab": {
          "base_uri": "https://localhost:8080/"
        },
        "id": "NAzMHz99LZty",
        "outputId": "83764655-41c9-46c6-bc97-6662b571ea68"
      },
      "execution_count": 10,
      "outputs": [
        {
          "output_type": "stream",
          "name": "stderr",
          "text": [
            "[nltk_data] Downloading package vader_lexicon to /root/nltk_data...\n",
            "[nltk_data] Downloading package punkt to /root/nltk_data...\n",
            "[nltk_data]   Package punkt is already up-to-date!\n"
          ]
        },
        {
          "output_type": "execute_result",
          "data": {
            "text/plain": [
              "True"
            ]
          },
          "metadata": {},
          "execution_count": 10
        }
      ]
    },
    {
      "cell_type": "code",
      "source": [
        "# Define the sentiment analysis function\n",
        "def calculate_sentiment(filename):\n",
        "    with open(filename, 'r', encoding='utf-8') as file:\n",
        "        text = file.read()\n",
        "\n",
        "    # Tokenize text into sentences\n",
        "    sentences = sent_tokenize(text)\n",
        "\n",
        "    # Create SentimentIntensityAnalyzer object\n",
        "    sia = SentimentIntensityAnalyzer()\n",
        "\n",
        "    # Compute sentiment scores\n",
        "    compound_scores = [sia.polarity_scores(sentence)['compound'] for sentence in sentences]\n",
        "\n",
        "    # Calculate average compound score\n",
        "    overall_score = sum(compound_scores) / len(compound_scores)\n",
        "\n",
        "    return overall_score\n",
        "\n",
        "# List of files\n",
        "files = [\n",
        "    '/content/sample_data/Shakespeare_A Fair Song.txt',\n",
        "    '/content/sample_data/Shakespeare_Blow, Blow, Thou Winter Winda.txt',\n",
        "    '/content/sample_data/Shakespeare_Fear No More.txt',\n",
        "    '/content/sample_data/Shakespeare_Juliets Soliloquy.txt',\n",
        "    '/content/sample_data/Shakespeare_Sonnet 130.txt'\n",
        "]\n",
        "\n",
        "# Compute sentiment scores for each file\n",
        "sentiment_scores = {file.split('/')[-1]: calculate_sentiment(file) for file in files}\n",
        "sentiment_scores"
      ],
      "metadata": {
        "colab": {
          "base_uri": "https://localhost:8080/"
        },
        "id": "aZ0-nCv0K0Kx",
        "outputId": "5ecb2189-4891-42cd-983e-e1474e0cb721"
      },
      "execution_count": 12,
      "outputs": [
        {
          "output_type": "execute_result",
          "data": {
            "text/plain": [
              "{'Shakespeare_A Fair Song.txt': 0.1604,\n",
              " 'Shakespeare_Blow, Blow, Thou Winter Winda.txt': 0.27687999999999996,\n",
              " 'Shakespeare_Fear No More.txt': -0.18086249999999998,\n",
              " 'Shakespeare_Juliets Soliloquy.txt': -0.4098538461538462,\n",
              " 'Shakespeare_Sonnet 130.txt': 0.46145}"
            ]
          },
          "metadata": {},
          "execution_count": 12
        }
      ]
    },
    {
      "cell_type": "markdown",
      "source": [
        "####1.2 (0.5 points) Rank the overall sentiment score for each file from the positive score to the negative score. Print all the filenames with corresponding scores."
      ],
      "metadata": {
        "id": "ajVKx1RrMTYJ"
      }
    },
    {
      "cell_type": "code",
      "source": [
        "# Sort the files by sentiment score, from most positive to most negative\n",
        "sorted_scores = sorted(sentiment_scores.items(), key=lambda item: item[1], reverse=True)\n",
        "\n",
        "# Print the filenames with their corresponding sentiment scores\n",
        "for filename, score in sorted_scores:\n",
        "    print(f\"{filename}: {score:.2f}\")"
      ],
      "metadata": {
        "colab": {
          "base_uri": "https://localhost:8080/"
        },
        "id": "4cGNXBctK-w-",
        "outputId": "c1bd3f4d-a4b6-4ba0-e5bd-bba40ab711b9"
      },
      "execution_count": 13,
      "outputs": [
        {
          "output_type": "stream",
          "name": "stdout",
          "text": [
            "Shakespeare_Sonnet 130.txt: 0.46\n",
            "Shakespeare_Blow, Blow, Thou Winter Winda.txt: 0.28\n",
            "Shakespeare_A Fair Song.txt: 0.16\n",
            "Shakespeare_Fear No More.txt: -0.18\n",
            "Shakespeare_Juliets Soliloquy.txt: -0.41\n"
          ]
        }
      ]
    },
    {
      "cell_type": "markdown",
      "source": [
        "####1.3 (0.5 points) Your program should be robust and able to dynamically process any number of files as inputs to generate sentiment values for each file and then automatically rank all of them."
      ],
      "metadata": {
        "id": "AiITfu6zMqad"
      }
    },
    {
      "cell_type": "code",
      "source": [
        "def calculate_sentiment(filename):\n",
        "    with open(filename, 'r', encoding='utf-8') as file:\n",
        "        text = file.read()\n",
        "\n",
        "    # Tokenize text into sentences\n",
        "    sentences = sent_tokenize(text)\n",
        "\n",
        "    # Create SentimentIntensityAnalyzer object\n",
        "    sia = SentimentIntensityAnalyzer()\n",
        "\n",
        "    # Compute sentiment scores\n",
        "    compound_scores = [sia.polarity_scores(sentence)['compound'] for sentence in sentences]\n",
        "\n",
        "    # Calculate average compound score\n",
        "    return sum(compound_scores) / len(compound_scores) if compound_scores else 0\n",
        "\n",
        "def process_directory(directory):\n",
        "    import os\n",
        "    # Retrieve all text files in the directory\n",
        "    files = [os.path.join(directory, f) for f in os.listdir(directory) if f.endswith('.txt')]\n",
        "\n",
        "    # Compute sentiment scores for each file\n",
        "    sentiment_scores = {os.path.basename(file): calculate_sentiment(file) for file in files}\n",
        "\n",
        "    # Sort the files by sentiment score, from most positive to most negative\n",
        "    sorted_scores = sorted(sentiment_scores.items(), key=lambda item: item[1], reverse=True)\n",
        "\n",
        "    # Print the filenames with their corresponding sentiment scores\n",
        "    for filename, score in sorted_scores:\n",
        "        print(f\"{filename}: {score:.2f}\")\n",
        "\n",
        "# Specify the directory containing the text files\n",
        "directory_path = '/content/sample_data'\n",
        "process_directory(directory_path)"
      ],
      "metadata": {
        "colab": {
          "base_uri": "https://localhost:8080/"
        },
        "id": "8yEU261pMmxK",
        "outputId": "3a503598-0162-4ea6-805d-735da4e0cbc4"
      },
      "execution_count": 14,
      "outputs": [
        {
          "output_type": "stream",
          "name": "stdout",
          "text": [
            "Shakespeare_Sonnet 130.txt: 0.46\n",
            "Shakespeare_Blow, Blow, Thou Winter Winda.txt: 0.28\n",
            "Shakespeare_A Fair Song.txt: 0.16\n",
            "Shakespeare_Fear No More.txt: -0.18\n",
            "Shakespeare_Juliets Soliloquy.txt: -0.41\n"
          ]
        }
      ]
    },
    {
      "cell_type": "markdown",
      "source": [
        "# 1.4 (1.0 points) Briefly describe what you can find from the results."
      ],
      "metadata": {
        "id": "-b0YqS-IM6TJ"
      }
    },
    {
      "cell_type": "markdown",
      "source": [
        "# 1.4 (1.0 points) Briefly describe what you can find from the results.\n",
        "\n",
        "####1.4.1 (0.3 points) Double check each overall score if they make sense for each poem based on your understanding for the poem.\n",
        "\n",
        "Analysis of Scores:\n",
        "\n",
        "- Shakespeare_Juliets Soliloquy: -0.41\n",
        "  The poem reflects sadness, fear, and worry as Juliet contemplates her fate.The negative score aligns well with the somber theme.\n",
        "  \n",
        "- Shakespeare_Sonnet 130: 0.46\n",
        "  This poem uses humor and irony to describe love. The positive score captures the poem's playful and satirical tone.\n",
        "  \n",
        "- Shakespeare_A Fair Song: 0.16\n",
        "  The poem portrays the fairy queen with admiration. Although positive, the score indicates a less intense sentiment compared to other poems.\n",
        "\n",
        "- Shakespeare_Blow, Blow, Thou Winter Wind: 0.28\n",
        "  The poem conveys a negative outlook, highlighting the bitterness of winter and the insincerity of love.\n",
        "\n",
        "- Shakespeare_Fear No More: -0.18\n",
        "  The poem reflects on mortality and suffering, mixed with a sense of acceptance. The negative score reflects the contemplation of life's hardships and inevitable end.\n",
        "\n"
      ],
      "metadata": {
        "id": "qiGy_6d_M_BW"
      }
    },
    {
      "cell_type": "markdown",
      "source": [
        "# 1.4.2 (0.3 points) Briefly explain the statistical methods you choose to get an overall sentiment score are feasible.\n",
        "\n",
        "The statistical method chosen involves computing the compound sentiment score using NLTK's `SentimentIntensityAnalyzer` for each sentence in the text. The average compound score across all sentences in a file provides the overall sentiment score for the text.\n",
        "\n",
        "This approach is feasible as it accounts for the nuanced sentiment expressed in the text by considering the valence (positive/negative intensity) of words and phrases. The averaging of compound scores provides a balanced view of the text's sentiment, capturing both positive and negative emotions.\n",
        "\n"
      ],
      "metadata": {
        "id": "voW1RQMCNPKm"
      }
    },
    {
      "cell_type": "markdown",
      "source": [
        "# 1.4.3 (0.4 points) Briefly describe more possible extended applications based on this assignment.\n",
        "\n",
        "Sentiment analysis techniques explored in this assignment have diverse applications:\n",
        "\n",
        "- **Content Recommendation Systems:** Utilize sentiment analysis to tailor content recommendations based on user preferences and emotional states.\n",
        "  \n",
        "- **Customer Feedback Analysis:** Gain insights into customer sentiments from reviews and feedback to enhance product/service quality and customer satisfaction.\n",
        "\n",
        "- **Market Research:** Analyze public sentiment towards products, services, or brands to inform marketing strategies and campaign planning.\n",
        "\n",
        "- **Literary and Cultural Studies:** Automate sentiment analysis of literary works to identify themes, trends, and shifts in societal emotions over time.\n",
        "\n",
        "These applications highlight the versatility and impact of sentiment analysis across various domains, enabling data-driven decision-making and enhancing user experiences."
      ],
      "metadata": {
        "id": "yniRV4KZNPoO"
      }
    }
  ]
}